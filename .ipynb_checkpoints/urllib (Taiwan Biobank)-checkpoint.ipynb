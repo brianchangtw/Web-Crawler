{
 "cells": [
  {
   "cell_type": "code",
   "execution_count": 20,
   "metadata": {},
   "outputs": [],
   "source": [
    "from urllib.request import urlopen\n",
    "html = urlopen('https://www.twbiobank.org.tw/new_web_en/index.php').read().decode('utf-8')\n"
   ]
  },
  {
   "cell_type": "code",
   "execution_count": 4,
   "metadata": {},
   "outputs": [
    {
     "name": "stdout",
     "output_type": "stream",
     "text": [
      "\n",
      "Page title is:  臺灣人體生物資料庫\n"
     ]
    }
   ],
   "source": [
    "import re\n",
    "res = re.findall(r\"<title>(.+?)</title>\", html)\n",
    "print(\"\\nPage title is: \", res[0])"
   ]
  },
  {
   "cell_type": "code",
   "execution_count": 19,
   "metadata": {},
   "outputs": [
    {
     "name": "stdout",
     "output_type": "stream",
     "text": [
      "\n",
      "All http links:  ['https://www.youtube.com/watch?v=tVIHlchyOCs', 'https://www.youtube.com/watch?v=tVIHlchyOCs', 'http://www.biobankjp.org/', 'http://www.geenivaramu.ee/en/', 'http://www.kreftregisteret.no/en/', 'http://www.biobankdenmark.dk/', 'http://www.ukbiobank.ac.uk/', 'http://www.nationale-kohorte.de/', 'http://www.framinghamheartstudy.org/', 'http://www.ckbiobank.org/site/', 'http://nationalgenebank.org/', 'http://kaimrc.med.sa/index.php?option=com_content&view=article&id=31&Itemid=28&lang=en']\n"
     ]
    }
   ],
   "source": [
    "res = re.findall(r'href=\"(http.*?)\"', html)\n",
    "print(\"\\nAll http links: \", res)\n"
   ]
  }
 ],
 "metadata": {
  "kernelspec": {
   "display_name": "Python 3",
   "language": "python",
   "name": "python3"
  },
  "language_info": {
   "codemirror_mode": {
    "name": "ipython",
    "version": 3
   },
   "file_extension": ".py",
   "mimetype": "text/x-python",
   "name": "python",
   "nbconvert_exporter": "python",
   "pygments_lexer": "ipython3",
   "version": "3.7.3"
  }
 },
 "nbformat": 4,
 "nbformat_minor": 2
}
